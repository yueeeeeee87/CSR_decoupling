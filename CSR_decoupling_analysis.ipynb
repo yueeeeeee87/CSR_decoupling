{
 "cells": [
  {
   "cell_type": "code",
   "execution_count": 2,
   "metadata": {},
   "outputs": [
    {
     "name": "stderr",
     "output_type": "stream",
     "text": [
      "c:\\Users\\test\\anaconda3\\lib\\site-packages\\IPython\\core\\interactiveshell.py:3444: DtypeWarning: Columns (7) have mixed types.Specify dtype option on import or set low_memory=False.\n",
      "  exec(code_obj, self.user_global_ns, self.user_ns)\n"
     ]
    }
   ],
   "source": [
    "import pandas as pd\n",
    "\n",
    "df = pd.read_csv('C:/Users/test/Desktop/info.csv')\n",
    "score_dashbord = pd.read_csv('C:/Users/test/Desktop/csr/國家ESG 2.csv')\n",
    "score_2017 = score_dashbord[['country_2017','Global Index Score_2017']]\n",
    "score_2018 = score_dashbord[['country_2018','Global Index Score_2018']]\n",
    "score_2019 = score_dashbord[['country_2019','Global Index Score_2019']]\n"
   ]
  },
  {
   "cell_type": "code",
   "execution_count": 4,
   "metadata": {},
   "outputs": [],
   "source": [
    "def Count_Foreign_Company(year, company):\n",
    "    fliter_target = (df['年月'] == year) & (df['公司代碼'] == company)\n",
    "    fliter_tw = (df['國別'] == '台灣')\n",
    "    \n",
    "    d_df = df[fliter_target]\n",
    "    \n",
    "    \n",
    "    #子公司總數\n",
    "    num_total = df[fliter_target].count('columns')\n",
    "    num_total = num_total.size\n",
    "    \n",
    "    #台灣子公司數\n",
    "    num_taiwan = d_df[fliter_tw].count('columns')\n",
    "    num_taiwan = num_taiwan.size\n",
    "    \n",
    "    \n",
    "    print(df['國別'].unique())\n",
    "    \n",
    "    #避稅天堂名單\n",
    "    tax_heaven_list = ['薩摩亞', '巴拿馬', '英屬維京', '開曼', '關島', '模里西斯', '塞席爾' ,'百慕達', '賴索托', '尼加拉瓜', '維京', \n",
    "    '安吉拉', '貝里斯', '馬紹爾群島', '科克群島', '澤西島', '盧森堡', '美屬薩摩亞', '根西島', '聖文森', '聖克里斯多', '多明尼加', '莫三比克'\n",
    "    ,'巴哈馬']\n",
    "    \n",
    "    #避稅公司總數\n",
    "    fliter_tax = (df['國別'].isin(tax_heaven_list))\n",
    "    num_heaven = d_df[fliter_tax].count('columns')\n",
    "    num_heaven = num_heaven.size\n",
    "    \n",
    "    #國外公司總數\n",
    "    num_foreign = num_total - num_taiwan - num_heaven\n",
    "    \n",
    "    #國外公司所在地 總數\n",
    "    fliter_tax = (~df['國別'].isin(tax_heaven_list))\n",
    "    c_list = d_df[fliter_tax]\n",
    "    uni = c_list['國別'].unique().tolist()\n",
    "    if '台灣' in uni:\n",
    "        uni.remove('台灣')\n",
    "    country_list =  ' '.join(map(str, uni))\n",
    "    country_size = len(uni)\n",
    "    \n",
    "    return num_total, num_taiwan, num_heaven, num_foreign, country_list, country_size"
   ]
  },
  {
   "cell_type": "code",
   "execution_count": 6,
   "metadata": {},
   "outputs": [],
   "source": [
    "def ESG_score(year, company):\n",
    "\n",
    "    fliter_target = (df['年月'] == year) & (df['公司代碼'] == company)\n",
    "    \n",
    "    d_df = df[fliter_target]\n",
    "    \n",
    "    country_list = d_df['國別'].unique().tolist()\n",
    "    tax_heaven_list_tw = ['台灣','薩摩亞', '巴拿馬', '英屬維京', '開曼', '關島', '模里西斯', '塞席爾' ,'百慕達', '賴索托', '尼加拉瓜', '維京', \n",
    "    '安吉拉', '貝里斯', '馬紹爾群島', '科克群島', '澤西島', '盧森堡', '美屬薩摩亞', '根西島', '聖文森', '聖克里斯多', '多明尼加', '莫三比克'\n",
    "    ,'巴哈馬','伊朗']\n",
    "    \n",
    "    \n",
    "    country_list = set(country_list ).difference(tax_heaven_list_tw)\n",
    "    \n",
    "    cleanedList = [x for x in country_list if str(x) != 'nan']\n",
    "    d_df.reset_index(inplace=True, drop=True)\n",
    "    \n",
    "    total_score = 0\n",
    "    count = 0\n",
    "    if year == 201712:\n",
    "        for i in d_df.index:\n",
    "            if d_df['國別'][i] in cleanedList:\n",
    "                score = score_2017.loc[score_2017['country_2017'] == d_df['國別'][i]]\n",
    "                s = score['Global Index Score_2017'].tolist()\n",
    "                s = s[0]\n",
    "                total_score += s\n",
    "                count += 1\n",
    "               \n",
    "                \n",
    "    if year == 201812:\n",
    "        for i in d_df.index:\n",
    "            if d_df['國別'][i] in cleanedList:\n",
    "                score = score_2018.loc[score_2018['country_2018'] == d_df['國別'][i]]\n",
    "                s = score['Global Index Score_2018'].tolist()\n",
    "                s = s[0]\n",
    "                total_score += s\n",
    "                count += 1\n",
    "                \n",
    "                   \n",
    "    if year == 201912:\n",
    "        for i in d_df.index:\n",
    "            if d_df['國別'][i] in cleanedList:\n",
    "                score = score_2019.loc[score_2019['country_2019'] == d_df['國別'][i]]\n",
    "                s = score['Global Index Score_2019'].tolist()\n",
    "                s = s[0]\n",
    "                total_score += s\n",
    "                count += 1\n",
    "    if count != 0:\n",
    "        ESG_score_country = total_score/count\n",
    "    else:\n",
    "        ESG_score_country = ''\n",
    "    return ESG_score_country"
   ]
  },
  {
   "cell_type": "code",
   "execution_count": 7,
   "metadata": {},
   "outputs": [],
   "source": [
    "def ESG_score_average(year, company):\n",
    "\n",
    "    fliter_target = (df['年月'] == year) & (df['公司代碼'] == company)\n",
    "    \n",
    "    d_df = df[fliter_target]\n",
    "    \n",
    "    country_list = d_df['國別'].unique().tolist()\n",
    "    tax_heaven_list_tw = ['台灣','薩摩亞', '巴拿馬', '英屬維京', '開曼', '關島', '模里西斯', '塞席爾' ,'百慕達', '賴索托', '尼加拉瓜', '維京', \n",
    "    '安吉拉', '貝里斯', '馬紹爾群島', '科克群島', '澤西島', '盧森堡', '美屬薩摩亞', '根西島', '聖文森', '聖克里斯多', '多明尼加', '莫三比克'\n",
    "    ,'巴哈馬','伊朗']\n",
    "    \n",
    "    \n",
    "    country_list = set(country_list ).difference(tax_heaven_list_tw)\n",
    "    \n",
    "    cleanedList = [x for x in country_list if str(x) != 'nan']\n",
    "    d_df.reset_index(inplace=True, drop=True)\n",
    "    total_score = 0\n",
    "    if year == 201712:\n",
    "        for i in cleanedList:            \n",
    "            score = score_2017.loc[score_2017['country_2017'] == i]\n",
    "            s = score['Global Index Score_2017'].tolist()\n",
    "            s = s[0]\n",
    "            total_score += s\n",
    "\n",
    "    if year == 201812:\n",
    "        for i in cleanedList:\n",
    "            score = score_2018.loc[score_2018['country_2018'] == i]\n",
    "            s = score['Global Index Score_2018'].tolist()\n",
    "            s = s[0]\n",
    "            total_score += s\n",
    "                \n",
    "                   \n",
    "    if year == 201912:\n",
    "        for i in cleanedList:\n",
    "            score = score_2019.loc[score_2019['country_2019'] == i]\n",
    "            s = score['Global Index Score_2019'].tolist()\n",
    "            s = s[0]\n",
    "            total_score += s\n",
    "                \n",
    "    if len(cleanedList) > 0:\n",
    "        ESG_score_average = total_score/len(cleanedList)\n",
    "    else:\n",
    "        ESG_score_average = ''\n",
    "    return ESG_score_average"
   ]
  },
  {
   "cell_type": "code",
   "execution_count": 8,
   "metadata": {},
   "outputs": [],
   "source": [
    "data = pd.DataFrame(columns=['公司代碼', '簡稱', '年月', '子公司數', '台灣子公司數', '避稅子公司數', '外國子公司數', '子公司所在國家', '子公司所在國家數','ESG分數_國家加權'])"
   ]
  },
  {
   "cell_type": "code",
   "execution_count": null,
   "metadata": {},
   "outputs": [],
   "source": [
    "year_list = [201712, 201812, 201912]\n",
    "company_list = list(df['公司代碼'].unique())\n",
    "company_name = list(df['簡稱'].unique())\n",
    "for name, company in enumerate(company_list):\n",
    "    c_name = company_name[name]\n",
    "    for year in year_list:\n",
    "        print(year, company)\n",
    "        num_total, num_taiwan, num_heaven, num_foreign, country_list, country_size = Count_Foreign_Company(year, company)\n",
    "        ESG_country = ESG_score(year, company)\n",
    "        ESG_score_ave = ESG_score_average(year, company)\n",
    "        data = data.append({'公司代碼':company, '簡稱':c_name, '年月':year, '子公司數':num_total, '台灣子公司數':num_taiwan, '避稅子公司數':num_heaven, '外國子公司數':num_foreign, '子公司所在國家':country_list, '子公司所在國家數':country_size, 'ESG分數_國家加權':ESG_country, 'ESG分數_國家平均':ESG_score_ave}, ignore_index=True)\n"
   ]
  },
  {
   "cell_type": "code",
   "execution_count": null,
   "metadata": {},
   "outputs": [],
   "source": [
    "data.to_excel(\"output_ESG.xlsx\")"
   ]
  }
 ],
 "metadata": {
  "kernelspec": {
   "display_name": "Python 3.9.7 ('base')",
   "language": "python",
   "name": "python3"
  },
  "language_info": {
   "codemirror_mode": {
    "name": "ipython",
    "version": 3
   },
   "file_extension": ".py",
   "mimetype": "text/x-python",
   "name": "python",
   "nbconvert_exporter": "python",
   "pygments_lexer": "ipython3",
   "version": "3.9.7"
  },
  "orig_nbformat": 4,
  "vscode": {
   "interpreter": {
    "hash": "51ff2e06048c899726fdf58076269735b99ca5d50955928d5afc64b7e9d33ce9"
   }
  }
 },
 "nbformat": 4,
 "nbformat_minor": 2
}
